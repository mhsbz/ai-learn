{
 "cells": [
  {
   "cell_type": "code",
   "id": "initial_id",
   "metadata": {
    "collapsed": true
   },
   "source": [
    "import pandas as pd\n",
    "from datasets import load_dataset\n",
    "from tokenizers.implementations import BertWordPieceTokenizer\n",
    "ds = load_dataset(\"stanfordnlp/imdb\")\n",
    "\n",
    "\n",
    "# for item in ds[\"train\"]:\n",
    "\n",
    "ds[\"train\"].to_csv(\"./train.csv\", index=False)\n",
    "\n",
    "df = pd.read_csv(\"./train.csv\")\n",
    "\n",
    "reviews = df.to_string()\n",
    "\n",
    "with open(\"corpus.txt\",\"w\") as f:\n",
    "    f.writelines(reviews)\n",
    "\n",
    "# 初始化一个新的 BertWordPieceTokenizer\n",
    "bert_tokenizer = BertWordPieceTokenizer()\n",
    "\n",
    "bert_tokenizer.train(\"./corpus.txt\")\n",
    "\n",
    "bert_tokenizer.get_vocab()\n",
    "\n",
    "bert_tokenizer.save_model(\"./tokenizer\")"
   ],
   "outputs": [],
   "execution_count": null
  },
  {
   "metadata": {},
   "cell_type": "code",
   "source": [
    "from tokenizers.implementations import BertWordPieceTokenizer\n",
    "tokenizer = BertWordPieceTokenizer.from_file(\"./tokenizer/vocab.txt\")\n",
    "\n",
    "# tokenizer.encode(\"oh it works just fine\").tokens\n",
    "\n",
    "tokenizer.encode(\"ohoh i thought it will be works just fine and feichanghao\").tokens"
   ],
   "id": "a788b0fc9a344e6f",
   "outputs": [],
   "execution_count": null
  },
  {
   "metadata": {},
   "cell_type": "code",
   "source": [
    "from transformers import BertTokenizerFast,LineByLineTextDataset,DataCollatorForLanguageModeling,TrainingArguments,Trainer\n",
    "from transformers import BertConfig,BertForMaskedLM\n",
    "import torch\n",
    "\n",
    "print(torch.cuda.is_available())\n",
    "\n",
    "tokenizer = BertTokenizerFast.from_pretrained(\"./tokenizer\")\n",
    "dataset = LineByLineTextDataset(tokenizer=tokenizer,file_path=\"./corpus.txt\",block_size=128)\n",
    "\n",
    "data_collator = DataCollatorForLanguageModeling(tokenizer=tokenizer,mlm=True,mlm_probability=0.15)\n",
    "\n",
    "training_args = TrainingArguments(\n",
    "    output_dir=\"./output\",\n",
    "    logging_steps=10,\n",
    "    logging_strategy=\"steps\",\n",
    "    overwrite_output_dir=True,\n",
    "    num_train_epochs=1,\n",
    "    per_device_train_batch_size=64,\n",
    "    report_to=[\"wandb\"]\n",
    ")\n",
    "\n",
    "bert = BertForMaskedLM(BertConfig())\n",
    "\n",
    "# tiny_bert = BertForMaskedLM(BertConfig(\n",
    "#     max_position_embeddings=512,\n",
    "#     num_attention_heads=2,\n",
    "#     hidden_size=128,\n",
    "#     num_hidden_layers=2,\n",
    "#     intermediate_size=521,\n",
    "# ))\n",
    "\n",
    "trainer = Trainer(\n",
    "    model=bert,\n",
    "    args=training_args,\n",
    "    train_dataset=dataset,\n",
    "    data_collator=data_collator,\n",
    ")\n",
    "\n",
    "trainer.train()\n",
    "\n",
    "trainer.save_model(\"./output/bert\")"
   ],
   "id": "e2cf3f736a9889f3",
   "outputs": [],
   "execution_count": null
  }
 ],
 "metadata": {
  "kernelspec": {
   "display_name": "Python 3",
   "language": "python",
   "name": "python3"
  },
  "language_info": {
   "codemirror_mode": {
    "name": "ipython",
    "version": 2
   },
   "file_extension": ".py",
   "mimetype": "text/x-python",
   "name": "python",
   "nbconvert_exporter": "python",
   "pygments_lexer": "ipython2",
   "version": "2.7.6"
  }
 },
 "nbformat": 4,
 "nbformat_minor": 5
}
